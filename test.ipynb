{
 "cells": [
  {
   "cell_type": "code",
   "execution_count": 28,
   "metadata": {},
   "outputs": [],
   "source": [
    "token = \"EAAMTxi1SmKQBO304jiFlzXjG5KG7pj3pywoZB2xm4ERZC2azu32sfjr8pkIlvyjWmVoRs36c98kJLZBcfLjPnHfn0fyjxn6UyAUxgnPFrzYqCgdNeAWzkzsZBdU8yzf4qQaNlWHyFqhNRkZBp9taJqf6rZCIiHcrCr8qqD1iWOM4toQfZAopPIcauvTKQtYeFyKBDhPXZBXyolWt8ktOIy1M\""
   ]
  },
  {
   "cell_type": "code",
   "execution_count": 29,
   "metadata": {},
   "outputs": [],
   "source": [
    "pid = \"113578631653943\""
   ]
  },
  {
   "cell_type": "code",
   "execution_count": 33,
   "metadata": {},
   "outputs": [
    {
     "ename": "TypeError",
     "evalue": "WhatsApp.send_message() got an unexpected keyword argument 'type'",
     "output_type": "error",
     "traceback": [
      "\u001b[1;31m---------------------------------------------------------------------------\u001b[0m",
      "\u001b[1;31mTypeError\u001b[0m                                 Traceback (most recent call last)",
      "\u001b[1;32md:\\proxima projects\\horescope GPT\\test.ipynb Cell 3\u001b[0m in \u001b[0;36m<module>\u001b[1;34m\u001b[0m\n\u001b[0;32m      <a href='vscode-notebook-cell:/d%3A/proxima%20projects/horescope%20GPT/test.ipynb#W1sZmlsZQ%3D%3D?line=0'>1</a>\u001b[0m \u001b[39mfrom\u001b[39;00m \u001b[39mpywa\u001b[39;00m \u001b[39mimport\u001b[39;00m WhatsApp\n\u001b[0;32m      <a href='vscode-notebook-cell:/d%3A/proxima%20projects/horescope%20GPT/test.ipynb#W1sZmlsZQ%3D%3D?line=2'>3</a>\u001b[0m wa \u001b[39m=\u001b[39m WhatsApp(phone_id\u001b[39m=\u001b[39mpid, token\u001b[39m=\u001b[39mtoken)\n\u001b[1;32m----> <a href='vscode-notebook-cell:/d%3A/proxima%20projects/horescope%20GPT/test.ipynb#W1sZmlsZQ%3D%3D?line=4'>5</a>\u001b[0m wa\u001b[39m.\u001b[39;49msend_message(\n\u001b[0;32m      <a href='vscode-notebook-cell:/d%3A/proxima%20projects/horescope%20GPT/test.ipynb#W1sZmlsZQ%3D%3D?line=5'>6</a>\u001b[0m     to\u001b[39m=\u001b[39;49m\u001b[39m'\u001b[39;49m\u001b[39m923101062596\u001b[39;49m\u001b[39m'\u001b[39;49m,\n\u001b[0;32m      <a href='vscode-notebook-cell:/d%3A/proxima%20projects/horescope%20GPT/test.ipynb#W1sZmlsZQ%3D%3D?line=6'>7</a>\u001b[0m     \u001b[39m# from='15550264134',\u001b[39;49;00m\n\u001b[0;32m      <a href='vscode-notebook-cell:/d%3A/proxima%20projects/horescope%20GPT/test.ipynb#W1sZmlsZQ%3D%3D?line=7'>8</a>\u001b[0m     text\u001b[39m=\u001b[39;49m\u001b[39m'\u001b[39;49m\u001b[39mHello from PyWa!\u001b[39;49m\u001b[39m'\u001b[39;49m,\n\u001b[0;32m      <a href='vscode-notebook-cell:/d%3A/proxima%20projects/horescope%20GPT/test.ipynb#W1sZmlsZQ%3D%3D?line=8'>9</a>\u001b[0m     \u001b[39mtype\u001b[39;49m\u001b[39m=\u001b[39;49m\u001b[39m\"\u001b[39;49m\u001b[39mtext\u001b[39;49m\u001b[39m\"\u001b[39;49m\n\u001b[0;32m     <a href='vscode-notebook-cell:/d%3A/proxima%20projects/horescope%20GPT/test.ipynb#W1sZmlsZQ%3D%3D?line=9'>10</a>\u001b[0m     \n\u001b[0;32m     <a href='vscode-notebook-cell:/d%3A/proxima%20projects/horescope%20GPT/test.ipynb#W1sZmlsZQ%3D%3D?line=10'>11</a>\u001b[0m )\n",
      "\u001b[1;31mTypeError\u001b[0m: WhatsApp.send_message() got an unexpected keyword argument 'type'"
     ]
    }
   ],
   "source": [
    "from pywa import WhatsApp\n",
    "\n",
    "wa = WhatsApp(phone_id=pid, token=token)\n",
    "\n",
    "wa.send_message(\n",
    "    to='923101062596',\n",
    "    # from='15550264134',\n",
    "    text='Hello from PyWa!',\n",
    "  \n",
    "    \n",
    ")"
   ]
  },
  {
   "cell_type": "code",
   "execution_count": 3,
   "metadata": {},
   "outputs": [
    {
     "name": "stdout",
     "output_type": "stream",
     "text": [
      "{\n",
      "  \"data\": [\n",
      "    {\n",
      "      \"address\": {\n",
      "        \"city\": \"karachi\",\n",
      "        \"country\": \"PK\",\n",
      "        \"line1\": \"R-45 Block C Bagh e malir , Karachi\",\n",
      "        \"line2\": \"\",\n",
      "        \"postal_code\": \"75050\",\n",
      "        \"state\": \"\"\n",
      "      },\n",
      "      \"balance\": 0,\n",
      "      \"created\": 1691737119,\n",
      "      \"currency\": \"usd\",\n",
      "      \"default_source\": null,\n",
      "      \"delinquent\": false,\n",
      "      \"description\": null,\n",
      "      \"discount\": null,\n",
      "      \"email\": \"ibtehajkhanoff@gmail.com\",\n",
      "      \"id\": \"cus_OQggl9o8hYyJ0E\",\n",
      "      \"invoice_prefix\": \"535DB899\",\n",
      "      \"invoice_settings\": {\n",
      "        \"custom_fields\": null,\n",
      "        \"default_payment_method\": \"pm_1NfJ27H88G30orvTqlIw7TEg\",\n",
      "        \"footer\": null,\n",
      "        \"rendering_options\": null\n",
      "      },\n",
      "      \"livemode\": false,\n",
      "      \"metadata\": {},\n",
      "      \"name\": \"ibtehaj khan\",\n",
      "      \"next_invoice_sequence\": 2,\n",
      "      \"object\": \"customer\",\n",
      "      \"phone\": \"+9203101062596\",\n",
      "      \"preferred_locales\": [],\n",
      "      \"shipping\": null,\n",
      "      \"tax_exempt\": \"none\",\n",
      "      \"test_clock\": null\n",
      "    }\n",
      "  ],\n",
      "  \"has_more\": false,\n",
      "  \"object\": \"list\",\n",
      "  \"url\": \"/v1/customers\"\n",
      "}\n"
     ]
    }
   ],
   "source": [
    "import stripe\n",
    "stripe.api_key = \"rk_test_51NcloVH88G30orvTxJbhNk5aNA7C89wM9Z8NsRn5J3ntfuYPqX5ZsLmP2R93me2MXVS84zYi1iXJ1jmjvaybkODT000CtRe2wo\"\n",
    "\n",
    "# list customers\n",
    "customers = stripe.Customer.list()\n",
    "\n",
    "# print the first customer's email\n",
    "print(customers)\n",
    "\n",
    "# retrieve specific Customer\n",
    "\n"
   ]
  },
  {
   "cell_type": "code",
   "execution_count": 5,
   "metadata": {},
   "outputs": [
    {
     "name": "stdout",
     "output_type": "stream",
     "text": [
      "{\n",
      "  \"id\": \"535DB899\"\n",
      "}\n"
     ]
    }
   ],
   "source": [
    "customer = stripe.InvoiceItem(\"535DB899\")\n",
    "\n",
    "# print that customer's email\n",
    "print(customer)"
   ]
  },
  {
   "cell_type": "code",
   "execution_count": 3,
   "metadata": {},
   "outputs": [],
   "source": [
    "import re\n",
    "import json\n",
    "\n",
    "def extract_json(input_string):\n",
    "    # Regular expression pattern to find JSON between backticks\n",
    "    pattern = r'`([^`]+)`'\n",
    "    \n",
    "    # Search for the pattern in the input string\n",
    "    match = re.search(pattern, input_string)\n",
    "    \n",
    "    if match:\n",
    "        json_string = match.group(1)\n",
    "        try:\n",
    "            json_object = json.loads(json_string)\n",
    "            return json_object\n",
    "        except json.JSONDecodeError:\n",
    "            print(\"Error: The extracted string is not valid JSON.\")\n",
    "            return None\n",
    "    else:\n",
    "        print(\"No JSON string found in the input.\")\n",
    "        return None\n",
    "\n",
    "# Example input containing a JSON string between backticks\n",
    "input_string = \"\"\"\"Here is the previously generated invoice:\\n\\n```\\n{\\n  \\\"companyName\\\": \\\"proxima AI\\\",\\n  \\\"items\\\": [\\n    {\\n      \\\"itemName\\\": \\\"Web App\\\",\\n      \\\"quantity\\\": 1,\\n      \\\"price\\\": 8000\\n    },\\n    {\\n      \\\"itemName\\\": \\\"SEO\\\",\\n      \\\"quantity\\\": 1,\\n      \\\"price\\\": 200\\n    }\\n  ],\\n  \\\"companyAddress\\\": \\\"Karachi\\\"\\n}\\n```\\n\\nPlease let me know if there is anything else I can assist you with.\"\"\"\n",
    "\n",
    "\n"
   ]
  },
  {
   "cell_type": "code",
   "execution_count": 4,
   "metadata": {},
   "outputs": [
    {
     "name": "stdout",
     "output_type": "stream",
     "text": [
      "Extracted JSON: {'companyName': 'proxima AI', 'items': [{'itemName': 'Web App', 'quantity': 1, 'price': 8000}, {'itemName': 'SEO', 'quantity': 1, 'price': 200}], 'companyAddress': 'Karachi'}\n"
     ]
    }
   ],
   "source": [
    "# Extract and parse the JSON\n",
    "extracted_json = extract_json(input_string)\n",
    "print(\"Extracted JSON:\", extracted_json)"
   ]
  },
  {
   "cell_type": "code",
   "execution_count": 5,
   "metadata": {},
   "outputs": [],
   "source": [
    "a = \"\" \"Thank you for providing all the necessary information. I will now generate the invoice for you. Please wait a moment.\\n```\\n{\\n   \\\"invoice\\\":{\\n      \\\"company_name\\\":\\\"Proxima AI\\\",\\n      \\\"company_address\\\":\\\"Karachi\\\",\\n      \\\"items\\\":[\\n         {\\n            \\\"item_name\\\":\\\"Web App\\\",\\n            \\\"quantity\\\":1,\\n            \\\"price\\\":18000\\n         },\\n         {\\n            \\\"item_name\\\":\\\"SEO\\\",\\n            \\\"quantity\\\":1,\\n            \\\"price\\\":200\\n         }\\n      ]\\n   }\\n}\\n```\\nHere is the generated invoice in JSON format. Please let me know if there is anything else I can assist you with.\"\"\""
   ]
  },
  {
   "cell_type": "code",
   "execution_count": 1,
   "metadata": {},
   "outputs": [
    {
     "data": {
      "text/plain": [
       "str"
      ]
     },
     "execution_count": 1,
     "metadata": {},
     "output_type": "execute_result"
    }
   ],
   "source": [
    "type(\"asd\")"
   ]
  },
  {
   "cell_type": "code",
   "execution_count": 3,
   "metadata": {},
   "outputs": [
    {
     "name": "stdout",
     "output_type": "stream",
     "text": [
      "json found\n"
     ]
    }
   ],
   "source": [
    "if type(\"```\")  == str:\n",
    "           \n",
    "    print('json found')"
   ]
  }
 ],
 "metadata": {
  "kernelspec": {
   "display_name": "main",
   "language": "python",
   "name": "python3"
  },
  "language_info": {
   "codemirror_mode": {
    "name": "ipython",
    "version": 3
   },
   "file_extension": ".py",
   "mimetype": "text/x-python",
   "name": "python",
   "nbconvert_exporter": "python",
   "pygments_lexer": "ipython3",
   "version": "3.10.9"
  },
  "orig_nbformat": 4
 },
 "nbformat": 4,
 "nbformat_minor": 2
}
